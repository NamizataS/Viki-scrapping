{
 "cells": [
  {
   "cell_type": "code",
   "execution_count": 1,
   "metadata": {},
   "outputs": [],
   "source": [
    "from selenium import webdriver\n",
    "from selenium.webdriver.common.by import By\n",
    "from selenium.webdriver.support.ui import WebDriverWait\n",
    "from selenium.webdriver.support import expected_conditions as EC"
   ]
  },
  {
   "cell_type": "markdown",
   "metadata": {},
   "source": [
    "Nous avons décidé de créer une classe Scraper pour rassembler toutes les fonctions dont nous aurons besoin pour scraper le site web que nous avons choisi."
   ]
  },
  {
   "cell_type": "code",
   "execution_count": 21,
   "metadata": {},
   "outputs": [],
   "source": [
    "class Scraper:\n",
    "    def __init__(self, url):\n",
    "        self.chrome_options = webdriver.ChromeOptions()\n",
    "        self.chrome_options.add_argument('--no-sandbox')\n",
    "        self.chrome_options.add_argument('--window-size=1420,1080')\n",
    "        self.chrome_options.add_argument('--headless')\n",
    "        self.chrome_options.add_argument('--disable-gpu')\n",
    "        self.chrome_options.add_argument('--disable-dev-shm-usage')  \n",
    "        self.driver = webdriver.Chrome(options=self.chrome_options)\n",
    "        self.url = url\n",
    "    \n",
    "    def access_website(self):\n",
    "        self.driver.get(self.url)\n",
    "        \n",
    "    def click_on_by_text(self,text):\n",
    "        self.driver.find_element_by_link_text(text).click()\n",
    "    \n",
    "    def getImage(self):\n",
    "        return self.driver.find_element_by_css_selector('img.responsive-img').get_attribute('src')\n",
    "        \n",
    "    def click_on_by_xpath(self,xpath):\n",
    "        self.driver.find_element_by_xpath(xpath).click()\n",
    "    \n",
    "    def accept_cookies(self):\n",
    "        self.driver.find_element_by_xpath(\"//button[text()='Accept']\").click()\n",
    "    \n",
    "    def getShow(self,results,category):\n",
    "        all_widgets = self.driver.find_elements_by_class_name(\"explore-results\")\n",
    "        first_line = all_widgets[0]\n",
    "        all_first_line_elements = first_line.find_elements_by_class_name('col-inline')\n",
    "        all_first_line_images = first_line.find_elements_by_css_selector('img.responsive-img')\n",
    "        for i in range(len(all_first_line_elements)):\n",
    "            try:\n",
    "                show = all_first_line_elements[i].split('\\n')\n",
    "                details = show[1].split('•')\n",
    "                votes_details = details[1].split('(')\n",
    "                image = all_first_line_images[i].get_attribute('src')\n",
    "                results.append({'Type': category, 'Nom': show[0], 'Pays': details[0], 'Note': votes_details[0],\n",
    "                                'Nb_votes': votes_details[1].split(' ')[0]})\n",
    "            except:\n",
    "                print(all_first_line_elements[i])\n",
    "                continue\n",
    "        return results\n",
    "\n",
    "    def getAllShows(self,pages,category): \n",
    "        results = []\n",
    "        for i in range(pages):\n",
    "            try:\n",
    "                self.getShow(results,category)\n",
    "                WebDriverWait(self.driver, 20).until(EC.element_to_be_clickable((By.XPATH, \"//a[text()='Suivant →']\"))).click()\n",
    "            except:\n",
    "                continue\n",
    "        return results\n",
    "    \n",
    "    def quitDriver(self):\n",
    "        self.driver.quit()"
   ]
  },
  {
   "cell_type": "code",
   "execution_count": 22,
   "metadata": {},
   "outputs": [],
   "source": [
    "chrome = Scraper('https://www.viki.com/?locale=fr')"
   ]
  },
  {
   "cell_type": "code",
   "execution_count": 24,
   "metadata": {},
   "outputs": [],
   "source": [
    "chrome.access_website()"
   ]
  },
  {
   "cell_type": "code",
   "execution_count": 25,
   "metadata": {},
   "outputs": [],
   "source": [
    "chrome.accept_cookies()"
   ]
  },
  {
   "cell_type": "code",
   "execution_count": 26,
   "metadata": {},
   "outputs": [],
   "source": [
    "chrome.click_on_by_text('Explorer')"
   ]
  },
  {
   "cell_type": "code",
   "execution_count": 27,
   "metadata": {},
   "outputs": [],
   "source": [
    "chrome.click_on_by_text('Tous les spectacles')"
   ]
  },
  {
   "cell_type": "code",
   "execution_count": 28,
   "metadata": {},
   "outputs": [],
   "source": [
    "chrome.click_on_by_xpath(\"//span[text()='Tous les types']\")"
   ]
  },
  {
   "cell_type": "code",
   "execution_count": 29,
   "metadata": {},
   "outputs": [],
   "source": [
    "chrome.click_on_by_xpath(\"//div[text()='Télévision']\")"
   ]
  },
  {
   "cell_type": "code",
   "execution_count": 30,
   "metadata": {},
   "outputs": [
    {
     "name": "stdout",
     "output_type": "stream",
     "text": [
      "<selenium.webdriver.remote.webelement.WebElement (session=\"c976030615d23d9d2841ff2609975599\", element=\"097ccd03-35e7-4e29-8c11-eae0eec1d952\")>\n",
      "<selenium.webdriver.remote.webelement.WebElement (session=\"c976030615d23d9d2841ff2609975599\", element=\"64379e94-aa2b-44f2-b759-6476ab2ad53a\")>\n",
      "<selenium.webdriver.remote.webelement.WebElement (session=\"c976030615d23d9d2841ff2609975599\", element=\"2599a474-8231-4e9d-a1a5-bcc65e8a1e73\")>\n",
      "<selenium.webdriver.remote.webelement.WebElement (session=\"c976030615d23d9d2841ff2609975599\", element=\"888d401a-8c80-456d-a355-e7e54339563d\")>\n",
      "<selenium.webdriver.remote.webelement.WebElement (session=\"c976030615d23d9d2841ff2609975599\", element=\"eb4cee09-1f47-4125-ab42-4cee3a6b22ed\")>\n",
      "<selenium.webdriver.remote.webelement.WebElement (session=\"c976030615d23d9d2841ff2609975599\", element=\"9a9fb14a-5bd5-430e-b6a4-17f1bef9efc8\")>\n",
      "<selenium.webdriver.remote.webelement.WebElement (session=\"c976030615d23d9d2841ff2609975599\", element=\"4ffa7b12-1fc5-4988-b726-637d26ee5807\")>\n",
      "<selenium.webdriver.remote.webelement.WebElement (session=\"c976030615d23d9d2841ff2609975599\", element=\"fd86da51-ab40-41f7-b565-b9061edb7018\")>\n",
      "<selenium.webdriver.remote.webelement.WebElement (session=\"c976030615d23d9d2841ff2609975599\", element=\"c81f6ec2-9d09-486f-a58f-2298c073507d\")>\n",
      "<selenium.webdriver.remote.webelement.WebElement (session=\"c976030615d23d9d2841ff2609975599\", element=\"18360057-9440-4175-8a27-02ff43ae92f3\")>\n",
      "<selenium.webdriver.remote.webelement.WebElement (session=\"c976030615d23d9d2841ff2609975599\", element=\"1035a530-404b-4336-a1cf-eb718b4b5733\")>\n",
      "<selenium.webdriver.remote.webelement.WebElement (session=\"c976030615d23d9d2841ff2609975599\", element=\"e6595896-72f9-45c6-8d94-83e29ffb8075\")>\n",
      "<selenium.webdriver.remote.webelement.WebElement (session=\"c976030615d23d9d2841ff2609975599\", element=\"c7233f61-a354-4e9a-a035-2b0d419402cc\")>\n",
      "<selenium.webdriver.remote.webelement.WebElement (session=\"c976030615d23d9d2841ff2609975599\", element=\"d0eb7886-d1d2-4e9d-a925-7d48ca2e0ca3\")>\n",
      "<selenium.webdriver.remote.webelement.WebElement (session=\"c976030615d23d9d2841ff2609975599\", element=\"a5b1a634-21be-4b9d-9d0d-74b280a73043\")>\n",
      "<selenium.webdriver.remote.webelement.WebElement (session=\"c976030615d23d9d2841ff2609975599\", element=\"508ec17e-6a21-4112-8056-270bde4bb486\")>\n",
      "<selenium.webdriver.remote.webelement.WebElement (session=\"c976030615d23d9d2841ff2609975599\", element=\"8bc54a2a-79ae-441f-a960-cecc1b1e8631\")>\n",
      "<selenium.webdriver.remote.webelement.WebElement (session=\"c976030615d23d9d2841ff2609975599\", element=\"3b8c09f6-ca59-4193-b1fc-146acfc844c6\")>\n",
      "<selenium.webdriver.remote.webelement.WebElement (session=\"c976030615d23d9d2841ff2609975599\", element=\"8c51de2c-0219-4f25-8f3f-0ce09f8b8eee\")>\n",
      "<selenium.webdriver.remote.webelement.WebElement (session=\"c976030615d23d9d2841ff2609975599\", element=\"2a2575c0-67d8-48c6-86c7-6b6f293174ea\")>\n",
      "<selenium.webdriver.remote.webelement.WebElement (session=\"c976030615d23d9d2841ff2609975599\", element=\"097ccd03-35e7-4e29-8c11-eae0eec1d952\")>\n",
      "<selenium.webdriver.remote.webelement.WebElement (session=\"c976030615d23d9d2841ff2609975599\", element=\"64379e94-aa2b-44f2-b759-6476ab2ad53a\")>\n",
      "<selenium.webdriver.remote.webelement.WebElement (session=\"c976030615d23d9d2841ff2609975599\", element=\"2599a474-8231-4e9d-a1a5-bcc65e8a1e73\")>\n",
      "<selenium.webdriver.remote.webelement.WebElement (session=\"c976030615d23d9d2841ff2609975599\", element=\"888d401a-8c80-456d-a355-e7e54339563d\")>\n",
      "<selenium.webdriver.remote.webelement.WebElement (session=\"c976030615d23d9d2841ff2609975599\", element=\"eb4cee09-1f47-4125-ab42-4cee3a6b22ed\")>\n",
      "<selenium.webdriver.remote.webelement.WebElement (session=\"c976030615d23d9d2841ff2609975599\", element=\"9a9fb14a-5bd5-430e-b6a4-17f1bef9efc8\")>\n",
      "<selenium.webdriver.remote.webelement.WebElement (session=\"c976030615d23d9d2841ff2609975599\", element=\"4ffa7b12-1fc5-4988-b726-637d26ee5807\")>\n",
      "<selenium.webdriver.remote.webelement.WebElement (session=\"c976030615d23d9d2841ff2609975599\", element=\"fd86da51-ab40-41f7-b565-b9061edb7018\")>\n",
      "<selenium.webdriver.remote.webelement.WebElement (session=\"c976030615d23d9d2841ff2609975599\", element=\"c81f6ec2-9d09-486f-a58f-2298c073507d\")>\n",
      "<selenium.webdriver.remote.webelement.WebElement (session=\"c976030615d23d9d2841ff2609975599\", element=\"18360057-9440-4175-8a27-02ff43ae92f3\")>\n",
      "<selenium.webdriver.remote.webelement.WebElement (session=\"c976030615d23d9d2841ff2609975599\", element=\"1035a530-404b-4336-a1cf-eb718b4b5733\")>\n",
      "<selenium.webdriver.remote.webelement.WebElement (session=\"c976030615d23d9d2841ff2609975599\", element=\"e6595896-72f9-45c6-8d94-83e29ffb8075\")>\n",
      "<selenium.webdriver.remote.webelement.WebElement (session=\"c976030615d23d9d2841ff2609975599\", element=\"c7233f61-a354-4e9a-a035-2b0d419402cc\")>\n",
      "<selenium.webdriver.remote.webelement.WebElement (session=\"c976030615d23d9d2841ff2609975599\", element=\"d0eb7886-d1d2-4e9d-a925-7d48ca2e0ca3\")>\n",
      "<selenium.webdriver.remote.webelement.WebElement (session=\"c976030615d23d9d2841ff2609975599\", element=\"a5b1a634-21be-4b9d-9d0d-74b280a73043\")>\n",
      "<selenium.webdriver.remote.webelement.WebElement (session=\"c976030615d23d9d2841ff2609975599\", element=\"508ec17e-6a21-4112-8056-270bde4bb486\")>\n",
      "<selenium.webdriver.remote.webelement.WebElement (session=\"c976030615d23d9d2841ff2609975599\", element=\"8bc54a2a-79ae-441f-a960-cecc1b1e8631\")>\n",
      "<selenium.webdriver.remote.webelement.WebElement (session=\"c976030615d23d9d2841ff2609975599\", element=\"3b8c09f6-ca59-4193-b1fc-146acfc844c6\")>\n",
      "<selenium.webdriver.remote.webelement.WebElement (session=\"c976030615d23d9d2841ff2609975599\", element=\"8c51de2c-0219-4f25-8f3f-0ce09f8b8eee\")>\n",
      "<selenium.webdriver.remote.webelement.WebElement (session=\"c976030615d23d9d2841ff2609975599\", element=\"2a2575c0-67d8-48c6-86c7-6b6f293174ea\")>\n",
      "<selenium.webdriver.remote.webelement.WebElement (session=\"c976030615d23d9d2841ff2609975599\", element=\"097ccd03-35e7-4e29-8c11-eae0eec1d952\")>\n",
      "<selenium.webdriver.remote.webelement.WebElement (session=\"c976030615d23d9d2841ff2609975599\", element=\"64379e94-aa2b-44f2-b759-6476ab2ad53a\")>\n",
      "<selenium.webdriver.remote.webelement.WebElement (session=\"c976030615d23d9d2841ff2609975599\", element=\"2599a474-8231-4e9d-a1a5-bcc65e8a1e73\")>\n",
      "<selenium.webdriver.remote.webelement.WebElement (session=\"c976030615d23d9d2841ff2609975599\", element=\"888d401a-8c80-456d-a355-e7e54339563d\")>\n",
      "<selenium.webdriver.remote.webelement.WebElement (session=\"c976030615d23d9d2841ff2609975599\", element=\"eb4cee09-1f47-4125-ab42-4cee3a6b22ed\")>\n",
      "<selenium.webdriver.remote.webelement.WebElement (session=\"c976030615d23d9d2841ff2609975599\", element=\"9a9fb14a-5bd5-430e-b6a4-17f1bef9efc8\")>\n",
      "<selenium.webdriver.remote.webelement.WebElement (session=\"c976030615d23d9d2841ff2609975599\", element=\"4ffa7b12-1fc5-4988-b726-637d26ee5807\")>\n",
      "<selenium.webdriver.remote.webelement.WebElement (session=\"c976030615d23d9d2841ff2609975599\", element=\"fd86da51-ab40-41f7-b565-b9061edb7018\")>\n",
      "<selenium.webdriver.remote.webelement.WebElement (session=\"c976030615d23d9d2841ff2609975599\", element=\"c81f6ec2-9d09-486f-a58f-2298c073507d\")>\n",
      "<selenium.webdriver.remote.webelement.WebElement (session=\"c976030615d23d9d2841ff2609975599\", element=\"18360057-9440-4175-8a27-02ff43ae92f3\")>\n",
      "<selenium.webdriver.remote.webelement.WebElement (session=\"c976030615d23d9d2841ff2609975599\", element=\"1035a530-404b-4336-a1cf-eb718b4b5733\")>\n",
      "<selenium.webdriver.remote.webelement.WebElement (session=\"c976030615d23d9d2841ff2609975599\", element=\"e6595896-72f9-45c6-8d94-83e29ffb8075\")>\n",
      "<selenium.webdriver.remote.webelement.WebElement (session=\"c976030615d23d9d2841ff2609975599\", element=\"c7233f61-a354-4e9a-a035-2b0d419402cc\")>\n",
      "<selenium.webdriver.remote.webelement.WebElement (session=\"c976030615d23d9d2841ff2609975599\", element=\"d0eb7886-d1d2-4e9d-a925-7d48ca2e0ca3\")>\n",
      "<selenium.webdriver.remote.webelement.WebElement (session=\"c976030615d23d9d2841ff2609975599\", element=\"a5b1a634-21be-4b9d-9d0d-74b280a73043\")>\n",
      "<selenium.webdriver.remote.webelement.WebElement (session=\"c976030615d23d9d2841ff2609975599\", element=\"508ec17e-6a21-4112-8056-270bde4bb486\")>\n",
      "<selenium.webdriver.remote.webelement.WebElement (session=\"c976030615d23d9d2841ff2609975599\", element=\"8bc54a2a-79ae-441f-a960-cecc1b1e8631\")>\n",
      "<selenium.webdriver.remote.webelement.WebElement (session=\"c976030615d23d9d2841ff2609975599\", element=\"3b8c09f6-ca59-4193-b1fc-146acfc844c6\")>\n",
      "<selenium.webdriver.remote.webelement.WebElement (session=\"c976030615d23d9d2841ff2609975599\", element=\"8c51de2c-0219-4f25-8f3f-0ce09f8b8eee\")>\n",
      "<selenium.webdriver.remote.webelement.WebElement (session=\"c976030615d23d9d2841ff2609975599\", element=\"2a2575c0-67d8-48c6-86c7-6b6f293174ea\")>\n"
     ]
    },
    {
     "name": "stdout",
     "output_type": "stream",
     "text": [
      "<selenium.webdriver.remote.webelement.WebElement (session=\"c976030615d23d9d2841ff2609975599\", element=\"a7df6363-9305-456a-aff0-2ae54d5bc190\")>\n",
      "<selenium.webdriver.remote.webelement.WebElement (session=\"c976030615d23d9d2841ff2609975599\", element=\"1fb01fe9-ebd6-469e-944b-9e023aa47cdb\")>\n",
      "<selenium.webdriver.remote.webelement.WebElement (session=\"c976030615d23d9d2841ff2609975599\", element=\"98de1928-000c-4bd2-9184-55f267f24aeb\")>\n",
      "<selenium.webdriver.remote.webelement.WebElement (session=\"c976030615d23d9d2841ff2609975599\", element=\"d3f96538-1d74-471a-b3cc-daf6fc7726cb\")>\n",
      "<selenium.webdriver.remote.webelement.WebElement (session=\"c976030615d23d9d2841ff2609975599\", element=\"7087b56d-9b76-47af-b81a-2b89750c805b\")>\n",
      "<selenium.webdriver.remote.webelement.WebElement (session=\"c976030615d23d9d2841ff2609975599\", element=\"2bf7a7b0-1f34-430e-8a46-0f4e2a63b4de\")>\n",
      "<selenium.webdriver.remote.webelement.WebElement (session=\"c976030615d23d9d2841ff2609975599\", element=\"44009175-3613-40e6-8aaf-5835b2b7d843\")>\n",
      "<selenium.webdriver.remote.webelement.WebElement (session=\"c976030615d23d9d2841ff2609975599\", element=\"4dc61581-5584-4732-8c31-2bc8dd3a3d3f\")>\n",
      "<selenium.webdriver.remote.webelement.WebElement (session=\"c976030615d23d9d2841ff2609975599\", element=\"13432e11-9241-4444-92c1-17d2a19084e7\")>\n",
      "<selenium.webdriver.remote.webelement.WebElement (session=\"c976030615d23d9d2841ff2609975599\", element=\"32d2c346-8bff-4821-9d0b-01724d551688\")>\n",
      "<selenium.webdriver.remote.webelement.WebElement (session=\"c976030615d23d9d2841ff2609975599\", element=\"e744fa05-f857-4819-97eb-b9d5c2937921\")>\n",
      "<selenium.webdriver.remote.webelement.WebElement (session=\"c976030615d23d9d2841ff2609975599\", element=\"91d66cf4-65a0-4b77-9a41-852a8da2d147\")>\n",
      "<selenium.webdriver.remote.webelement.WebElement (session=\"c976030615d23d9d2841ff2609975599\", element=\"2fb9192b-c97a-42e2-8919-056631fd7b9b\")>\n",
      "<selenium.webdriver.remote.webelement.WebElement (session=\"c976030615d23d9d2841ff2609975599\", element=\"5d518941-8a95-4ee0-b8a6-e1abe0d93c2f\")>\n",
      "<selenium.webdriver.remote.webelement.WebElement (session=\"c976030615d23d9d2841ff2609975599\", element=\"b81fb9aa-de6e-4598-8567-37e617f286e7\")>\n",
      "<selenium.webdriver.remote.webelement.WebElement (session=\"c976030615d23d9d2841ff2609975599\", element=\"77be8122-4c23-4e2c-a7c4-a894298ecc6d\")>\n",
      "<selenium.webdriver.remote.webelement.WebElement (session=\"c976030615d23d9d2841ff2609975599\", element=\"191c9027-1b37-4685-bbb2-7eb85984a175\")>\n",
      "<selenium.webdriver.remote.webelement.WebElement (session=\"c976030615d23d9d2841ff2609975599\", element=\"4f0fc05a-b098-4314-8d27-0d082b5ae372\")>\n",
      "<selenium.webdriver.remote.webelement.WebElement (session=\"c976030615d23d9d2841ff2609975599\", element=\"02226c4f-7afa-4bfd-8670-7d67d36f1055\")>\n",
      "<selenium.webdriver.remote.webelement.WebElement (session=\"c976030615d23d9d2841ff2609975599\", element=\"5394246f-9e42-46d8-91c9-5e16841c3d5a\")>\n",
      "<selenium.webdriver.remote.webelement.WebElement (session=\"c976030615d23d9d2841ff2609975599\", element=\"a7df6363-9305-456a-aff0-2ae54d5bc190\")>\n",
      "<selenium.webdriver.remote.webelement.WebElement (session=\"c976030615d23d9d2841ff2609975599\", element=\"1fb01fe9-ebd6-469e-944b-9e023aa47cdb\")>\n",
      "<selenium.webdriver.remote.webelement.WebElement (session=\"c976030615d23d9d2841ff2609975599\", element=\"98de1928-000c-4bd2-9184-55f267f24aeb\")>\n",
      "<selenium.webdriver.remote.webelement.WebElement (session=\"c976030615d23d9d2841ff2609975599\", element=\"d3f96538-1d74-471a-b3cc-daf6fc7726cb\")>\n",
      "<selenium.webdriver.remote.webelement.WebElement (session=\"c976030615d23d9d2841ff2609975599\", element=\"7087b56d-9b76-47af-b81a-2b89750c805b\")>\n",
      "<selenium.webdriver.remote.webelement.WebElement (session=\"c976030615d23d9d2841ff2609975599\", element=\"2bf7a7b0-1f34-430e-8a46-0f4e2a63b4de\")>\n",
      "<selenium.webdriver.remote.webelement.WebElement (session=\"c976030615d23d9d2841ff2609975599\", element=\"44009175-3613-40e6-8aaf-5835b2b7d843\")>\n",
      "<selenium.webdriver.remote.webelement.WebElement (session=\"c976030615d23d9d2841ff2609975599\", element=\"4dc61581-5584-4732-8c31-2bc8dd3a3d3f\")>\n",
      "<selenium.webdriver.remote.webelement.WebElement (session=\"c976030615d23d9d2841ff2609975599\", element=\"13432e11-9241-4444-92c1-17d2a19084e7\")>\n",
      "<selenium.webdriver.remote.webelement.WebElement (session=\"c976030615d23d9d2841ff2609975599\", element=\"32d2c346-8bff-4821-9d0b-01724d551688\")>\n",
      "<selenium.webdriver.remote.webelement.WebElement (session=\"c976030615d23d9d2841ff2609975599\", element=\"e744fa05-f857-4819-97eb-b9d5c2937921\")>\n",
      "<selenium.webdriver.remote.webelement.WebElement (session=\"c976030615d23d9d2841ff2609975599\", element=\"91d66cf4-65a0-4b77-9a41-852a8da2d147\")>\n",
      "<selenium.webdriver.remote.webelement.WebElement (session=\"c976030615d23d9d2841ff2609975599\", element=\"2fb9192b-c97a-42e2-8919-056631fd7b9b\")>\n",
      "<selenium.webdriver.remote.webelement.WebElement (session=\"c976030615d23d9d2841ff2609975599\", element=\"5d518941-8a95-4ee0-b8a6-e1abe0d93c2f\")>\n",
      "<selenium.webdriver.remote.webelement.WebElement (session=\"c976030615d23d9d2841ff2609975599\", element=\"b81fb9aa-de6e-4598-8567-37e617f286e7\")>\n",
      "<selenium.webdriver.remote.webelement.WebElement (session=\"c976030615d23d9d2841ff2609975599\", element=\"77be8122-4c23-4e2c-a7c4-a894298ecc6d\")>\n",
      "<selenium.webdriver.remote.webelement.WebElement (session=\"c976030615d23d9d2841ff2609975599\", element=\"191c9027-1b37-4685-bbb2-7eb85984a175\")>\n",
      "<selenium.webdriver.remote.webelement.WebElement (session=\"c976030615d23d9d2841ff2609975599\", element=\"4f0fc05a-b098-4314-8d27-0d082b5ae372\")>\n",
      "<selenium.webdriver.remote.webelement.WebElement (session=\"c976030615d23d9d2841ff2609975599\", element=\"02226c4f-7afa-4bfd-8670-7d67d36f1055\")>\n",
      "<selenium.webdriver.remote.webelement.WebElement (session=\"c976030615d23d9d2841ff2609975599\", element=\"5394246f-9e42-46d8-91c9-5e16841c3d5a\")>\n"
     ]
    }
   ],
   "source": [
    "series = chrome.getAllShows(5,'Série')"
   ]
  },
  {
   "cell_type": "code",
   "execution_count": 11,
   "metadata": {},
   "outputs": [
    {
     "data": {
      "text/plain": [
       "0"
      ]
     },
     "execution_count": 11,
     "metadata": {},
     "output_type": "execute_result"
    }
   ],
   "source": [
    "len(series)"
   ]
  },
  {
   "cell_type": "code",
   "execution_count": 12,
   "metadata": {},
   "outputs": [],
   "source": [
    "chrome.click_on_by_xpath(\"//span[text()='Télévision']\")"
   ]
  },
  {
   "cell_type": "code",
   "execution_count": 13,
   "metadata": {},
   "outputs": [],
   "source": [
    "chrome.click_on_by_xpath(\"//div[text()='Films']\")"
   ]
  },
  {
   "cell_type": "code",
   "execution_count": 14,
   "metadata": {},
   "outputs": [],
   "source": [
    "movies = chrome.getAllShows(3,'Film')"
   ]
  },
  {
   "cell_type": "code",
   "execution_count": 15,
   "metadata": {},
   "outputs": [
    {
     "data": {
      "text/plain": [
       "49"
      ]
     },
     "execution_count": 15,
     "metadata": {},
     "output_type": "execute_result"
    }
   ],
   "source": [
    "len(movies)"
   ]
  },
  {
   "cell_type": "code",
   "execution_count": 16,
   "metadata": {},
   "outputs": [],
   "source": [
    "chrome.quitDriver()"
   ]
  },
  {
   "cell_type": "code",
   "execution_count": 17,
   "metadata": {},
   "outputs": [],
   "source": [
    "shows = series + movies"
   ]
  },
  {
   "cell_type": "code",
   "execution_count": 50,
   "metadata": {},
   "outputs": [],
   "source": [
    "import pandas as pd"
   ]
  },
  {
   "cell_type": "code",
   "execution_count": 51,
   "metadata": {},
   "outputs": [],
   "source": [
    "df_shows = pd.read_csv('viki_shows.csv')"
   ]
  },
  {
   "cell_type": "code",
   "execution_count": 52,
   "metadata": {},
   "outputs": [
    {
     "data": {
      "text/html": [
       "<div>\n",
       "<style scoped>\n",
       "    .dataframe tbody tr th:only-of-type {\n",
       "        vertical-align: middle;\n",
       "    }\n",
       "\n",
       "    .dataframe tbody tr th {\n",
       "        vertical-align: top;\n",
       "    }\n",
       "\n",
       "    .dataframe thead th {\n",
       "        text-align: right;\n",
       "    }\n",
       "</style>\n",
       "<table border=\"1\" class=\"dataframe\">\n",
       "  <thead>\n",
       "    <tr style=\"text-align: right;\">\n",
       "      <th></th>\n",
       "      <th>Type</th>\n",
       "      <th>Nom</th>\n",
       "      <th>Pays</th>\n",
       "      <th>Note</th>\n",
       "      <th>Nb_votes</th>\n",
       "      <th>image</th>\n",
       "    </tr>\n",
       "  </thead>\n",
       "  <tbody>\n",
       "    <tr>\n",
       "      <th>0</th>\n",
       "      <td>Série</td>\n",
       "      <td>The Penthouse</td>\n",
       "      <td>Corée</td>\n",
       "      <td>9.2</td>\n",
       "      <td>24788</td>\n",
       "      <td>https://6.vikiplatform.com/image/220415a8e07d4...</td>\n",
       "    </tr>\n",
       "    <tr>\n",
       "      <th>1</th>\n",
       "      <td>Série</td>\n",
       "      <td>À L'ANTENNE The Sweet Blood</td>\n",
       "      <td>Corée</td>\n",
       "      <td>8.9</td>\n",
       "      <td>2012</td>\n",
       "      <td>https://6.vikiplatform.com/image/4974bb047c974...</td>\n",
       "    </tr>\n",
       "    <tr>\n",
       "      <th>2</th>\n",
       "      <td>Série</td>\n",
       "      <td>À L'ANTENNE Tu es mon héros</td>\n",
       "      <td>Chine Continentale</td>\n",
       "      <td>9.5</td>\n",
       "      <td>5478</td>\n",
       "      <td>https://6.vikiplatform.com/image/2fb5571e0da94...</td>\n",
       "    </tr>\n",
       "    <tr>\n",
       "      <th>3</th>\n",
       "      <td>Série</td>\n",
       "      <td>True Beauty</td>\n",
       "      <td>Corée</td>\n",
       "      <td>9.6</td>\n",
       "      <td>143241</td>\n",
       "      <td>https://6.vikiplatform.com/image/8533baa0008c4...</td>\n",
       "    </tr>\n",
       "    <tr>\n",
       "      <th>4</th>\n",
       "      <td>Série</td>\n",
       "      <td>The Penthouse 2 (Le Penthouse 2)</td>\n",
       "      <td>Corée</td>\n",
       "      <td>9.5</td>\n",
       "      <td>13558</td>\n",
       "      <td>https://6.vikiplatform.com/image/164f623344524...</td>\n",
       "    </tr>\n",
       "  </tbody>\n",
       "</table>\n",
       "</div>"
      ],
      "text/plain": [
       "    Type                               Nom                 Pays  Note  \\\n",
       "0  Série                     The Penthouse               Corée    9.2   \n",
       "1  Série       À L'ANTENNE The Sweet Blood               Corée    8.9   \n",
       "2  Série       À L'ANTENNE Tu es mon héros  Chine Continentale    9.5   \n",
       "3  Série                       True Beauty               Corée    9.6   \n",
       "4  Série  The Penthouse 2 (Le Penthouse 2)               Corée    9.5   \n",
       "\n",
       "   Nb_votes                                              image  \n",
       "0     24788  https://6.vikiplatform.com/image/220415a8e07d4...  \n",
       "1      2012  https://6.vikiplatform.com/image/4974bb047c974...  \n",
       "2      5478  https://6.vikiplatform.com/image/2fb5571e0da94...  \n",
       "3    143241  https://6.vikiplatform.com/image/8533baa0008c4...  \n",
       "4     13558  https://6.vikiplatform.com/image/164f623344524...  "
      ]
     },
     "execution_count": 52,
     "metadata": {},
     "output_type": "execute_result"
    }
   ],
   "source": [
    "df_shows.head()"
   ]
  },
  {
   "cell_type": "code",
   "execution_count": 53,
   "metadata": {},
   "outputs": [
    {
     "data": {
      "text/plain": [
       "558"
      ]
     },
     "execution_count": 53,
     "metadata": {},
     "output_type": "execute_result"
    }
   ],
   "source": [
    "len(df_shows)"
   ]
  },
  {
   "cell_type": "code",
   "execution_count": 54,
   "metadata": {},
   "outputs": [],
   "source": [
    "df_shows.sort_values('Nom',inplace=True)"
   ]
  },
  {
   "cell_type": "code",
   "execution_count": 55,
   "metadata": {},
   "outputs": [],
   "source": [
    "df_shows.drop_duplicates(subset =\"Nom\",keep = False, inplace = True)"
   ]
  },
  {
   "cell_type": "code",
   "execution_count": 56,
   "metadata": {},
   "outputs": [
    {
     "data": {
      "text/plain": [
       "512"
      ]
     },
     "execution_count": 56,
     "metadata": {},
     "output_type": "execute_result"
    }
   ],
   "source": [
    "len(df_shows)"
   ]
  },
  {
   "cell_type": "code",
   "execution_count": 22,
   "metadata": {},
   "outputs": [],
   "source": [
    "df_shows.to_csv('viki_shows.csv',index=False)"
   ]
  },
  {
   "cell_type": "code",
   "execution_count": 57,
   "metadata": {},
   "outputs": [],
   "source": [
    "from pymongo import MongoClient"
   ]
  },
  {
   "cell_type": "code",
   "execution_count": 58,
   "metadata": {},
   "outputs": [],
   "source": [
    "client = MongoClient(\"mongo\")"
   ]
  },
  {
   "cell_type": "code",
   "execution_count": 6,
   "metadata": {},
   "outputs": [],
   "source": [
    "df_shows = pd.read_csv('viki_shows.csv')"
   ]
  },
  {
   "cell_type": "code",
   "execution_count": 7,
   "metadata": {},
   "outputs": [
    {
     "data": {
      "text/html": [
       "<div>\n",
       "<style scoped>\n",
       "    .dataframe tbody tr th:only-of-type {\n",
       "        vertical-align: middle;\n",
       "    }\n",
       "\n",
       "    .dataframe tbody tr th {\n",
       "        vertical-align: top;\n",
       "    }\n",
       "\n",
       "    .dataframe thead th {\n",
       "        text-align: right;\n",
       "    }\n",
       "</style>\n",
       "<table border=\"1\" class=\"dataframe\">\n",
       "  <thead>\n",
       "    <tr style=\"text-align: right;\">\n",
       "      <th></th>\n",
       "      <th>Type</th>\n",
       "      <th>Nom</th>\n",
       "      <th>Pays</th>\n",
       "      <th>Note</th>\n",
       "      <th>Nb_votes</th>\n",
       "    </tr>\n",
       "  </thead>\n",
       "  <tbody>\n",
       "    <tr>\n",
       "      <th>0</th>\n",
       "      <td>Série</td>\n",
       "      <td>The Penthouse</td>\n",
       "      <td>Corée</td>\n",
       "      <td>9.2</td>\n",
       "      <td>24788</td>\n",
       "    </tr>\n",
       "    <tr>\n",
       "      <th>1</th>\n",
       "      <td>Série</td>\n",
       "      <td>À L'ANTENNE Tu es mon héros</td>\n",
       "      <td>Chine Continentale</td>\n",
       "      <td>9.5</td>\n",
       "      <td>4595</td>\n",
       "    </tr>\n",
       "    <tr>\n",
       "      <th>2</th>\n",
       "      <td>Série</td>\n",
       "      <td>À L'ANTENNE The Sweet Blood</td>\n",
       "      <td>Corée</td>\n",
       "      <td>8.9</td>\n",
       "      <td>1916</td>\n",
       "    </tr>\n",
       "    <tr>\n",
       "      <th>3</th>\n",
       "      <td>Série</td>\n",
       "      <td>True Beauty</td>\n",
       "      <td>Corée</td>\n",
       "      <td>9.6</td>\n",
       "      <td>143241</td>\n",
       "    </tr>\n",
       "    <tr>\n",
       "      <th>4</th>\n",
       "      <td>Série</td>\n",
       "      <td>À L'ANTENNE The Penthouse 2 (Le Penthouse 2)</td>\n",
       "      <td>Corée</td>\n",
       "      <td>9.5</td>\n",
       "      <td>13030</td>\n",
       "    </tr>\n",
       "  </tbody>\n",
       "</table>\n",
       "</div>"
      ],
      "text/plain": [
       "    Type                                           Nom                 Pays  \\\n",
       "0  Série                                 The Penthouse               Corée    \n",
       "1  Série                   À L'ANTENNE Tu es mon héros  Chine Continentale    \n",
       "2  Série                   À L'ANTENNE The Sweet Blood               Corée    \n",
       "3  Série                                   True Beauty               Corée    \n",
       "4  Série  À L'ANTENNE The Penthouse 2 (Le Penthouse 2)               Corée    \n",
       "\n",
       "   Note  Nb_votes  \n",
       "0   9.2     24788  \n",
       "1   9.5      4595  \n",
       "2   8.9      1916  \n",
       "3   9.6    143241  \n",
       "4   9.5     13030  "
      ]
     },
     "execution_count": 7,
     "metadata": {},
     "output_type": "execute_result"
    }
   ],
   "source": [
    "df_shows.head()"
   ]
  },
  {
   "cell_type": "code",
   "execution_count": 8,
   "metadata": {},
   "outputs": [],
   "source": [
    "df_shows['Nom'] = df_shows['Nom'].str.replace(\"À L'ANTENNE\",'')"
   ]
  },
  {
   "cell_type": "code",
   "execution_count": 10,
   "metadata": {},
   "outputs": [],
   "source": [
    "viki_shows = df_shows.to_dict(orient='records')"
   ]
  },
  {
   "cell_type": "code",
   "execution_count": 43,
   "metadata": {},
   "outputs": [],
   "source": [
    "db_viki = client.viki"
   ]
  },
  {
   "cell_type": "code",
   "execution_count": 44,
   "metadata": {},
   "outputs": [],
   "source": [
    "collection_viki = db_viki['shows']"
   ]
  },
  {
   "cell_type": "code",
   "execution_count": 13,
   "metadata": {},
   "outputs": [
    {
     "data": {
      "text/plain": [
       "<pymongo.results.InsertManyResult at 0x7fe41f75f880>"
      ]
     },
     "execution_count": 13,
     "metadata": {},
     "output_type": "execute_result"
    }
   ],
   "source": [
    "collection_viki.insert_many(viki_shows)"
   ]
  },
  {
   "cell_type": "code",
   "execution_count": 45,
   "metadata": {},
   "outputs": [
    {
     "data": {
      "text/plain": [
       "['shows']"
      ]
     },
     "execution_count": 45,
     "metadata": {},
     "output_type": "execute_result"
    }
   ],
   "source": [
    "db_viki.list_collection_names()"
   ]
  },
  {
   "cell_type": "code",
   "execution_count": 39,
   "metadata": {},
   "outputs": [],
   "source": [
    "cursor = collection_viki.find()"
   ]
  },
  {
   "cell_type": "code",
   "execution_count": 40,
   "metadata": {},
   "outputs": [
    {
     "name": "stdout",
     "output_type": "stream",
     "text": [
      "Film\n",
      "Série\n"
     ]
    }
   ],
   "source": [
    "#type série/film\n",
    "cur = collection_viki.aggregate([{\"$group\" : {\"_id\" : \"$Type\", \"TypeShows\" : {\"$sum\" : 1}}}])\n",
    "for i in cur:\n",
    "    print(i['_id'])"
   ]
  },
  {
   "cell_type": "code",
   "execution_count": 14,
   "metadata": {},
   "outputs": [
    {
     "name": "stdout",
     "output_type": "stream",
     "text": [
      "[{'_id': 'Corée ', 'showsNumber': 273}, {'_id': 'Chine Continentale ', 'showsNumber': 205}, {'_id': 'Taïwan ', 'showsNumber': 32}, {'_id': 'Japon ', 'showsNumber': 26}, {'_id': 'La Thaïlande ', 'showsNumber': 4}]\n"
     ]
    }
   ],
   "source": [
    "#pays\n",
    "cur = collection_viki.aggregate([{\"$group\" : {\"_id\" : \"$Pays\", \"showsNumber\" : {\"$sum\" : 1}}},{'$sort':{'showsNumber':-1}}])\n",
    "result = list(cur)\n",
    "print(result)"
   ]
  },
  {
   "cell_type": "code",
   "execution_count": 46,
   "metadata": {},
   "outputs": [
    {
     "data": {
      "text/plain": [
       "[{'_id': ObjectId('607b287cd26dcee95d568785'),\n",
       "  'Type': 'Série',\n",
       "  'Nom': 'Mother',\n",
       "  'Pays': 'Corée ',\n",
       "  'Note': 9.9,\n",
       "  'Nb_votes': 8148,\n",
       "  'image': 'https://6.vikiplatform.com/image/2ce8db0479344cfb8f56d255e99f92d8.jpeg?x=b&a=0x0&s=380x214&q=h&e=t&f=t&cb=1',\n",
       "  'on_air': 'Finished'},\n",
       " {'_id': ObjectId('607b287cd26dcee95d5685bc'),\n",
       "  'Type': 'Série',\n",
       "  'Nom': \"]]The Untamed (L'indompté)\",\n",
       "  'Pays': 'Chine Continentale ',\n",
       "  'Note': 9.8,\n",
       "  'Nb_votes': 33282,\n",
       "  'image': 'https://6.vikiplatform.com/image/ac7ca78b020149ebae1c12792f8220ec.jpg?x=b&a=0x0&s=380x214&q=h&e=t&f=t&cb=1',\n",
       "  'on_air': 'Finished'},\n",
       " {'_id': ObjectId('607b287cd26dcee95d568593'),\n",
       "  'Type': 'Série',\n",
       "  'Nom': 'Gobelin',\n",
       "  'Pays': 'Corée ',\n",
       "  'Note': 9.7,\n",
       "  'Nb_votes': 94393,\n",
       "  'image': 'https://6.vikiplatform.com/image/0691b83162c248128e8c8dd840ed27e6.jpg?x=b&a=0x0&s=380x214&q=h&e=t&f=t&cb=1',\n",
       "  'on_air': 'Finished'},\n",
       " {'_id': ObjectId('607b287cd26dcee95d56858e'),\n",
       "  'Type': 'Série',\n",
       "  'Nom': 'Mr. Queen',\n",
       "  'Pays': 'Corée ',\n",
       "  'Note': 9.7,\n",
       "  'Nb_votes': 87959,\n",
       "  'image': 'https://6.vikiplatform.com/image/d9537ce12d604b259fda9eac8b62c242.jpg?x=b&a=0x0&s=380x214&q=h&e=t&f=t&cb=1',\n",
       "  'on_air': 'Finished'},\n",
       " {'_id': ObjectId('607b287cd26dcee95d56859d'),\n",
       "  'Type': 'Série',\n",
       "  'Nom': \"Qu'est-ce qui cloche chez la sec...\",\n",
       "  'Pays': 'Corée ',\n",
       "  'Note': 9.7,\n",
       "  'Nb_votes': 324689,\n",
       "  'image': 'https://6.vikiplatform.com/image/9cddea5d560a4055a688e4ac6c70b84b.jpg?x=b&a=0x0&s=380x214&q=h&e=t&f=t&cb=1',\n",
       "  'on_air': 'Finished'}]"
      ]
     },
     "execution_count": 46,
     "metadata": {},
     "output_type": "execute_result"
    }
   ],
   "source": [
    "#5 mieux notés\n",
    "cur = collection_viki.find({'Type':'Série'}).sort('Note',-1).limit(5)\n",
    "list(cur)"
   ]
  },
  {
   "cell_type": "code",
   "execution_count": 49,
   "metadata": {},
   "outputs": [
    {
     "name": "stdout",
     "output_type": "stream",
     "text": [
      "[{'_id': ObjectId('607b287cd26dcee95d5687aa'), 'Type': 'Film', 'Nom': 'Color Rush (La ruée des couleurs...', 'Pays': 'Corée ', 'Note': 9.8, 'Nb_votes': 144, 'image': 'https://6.vikiplatform.com/image/31b67c17c52e452cb5a2832cbd2bdf1c.jpg?x=b&a=0x0&s=380x214&q=h&e=t&f=t&cb=1', 'on_air': 'Finished'}, {'_id': ObjectId('607b287cd26dcee95d56879d'), 'Type': 'Film', 'Nom': 'Tunnel', 'Pays': 'Corée ', 'Note': 9.7, 'Nb_votes': 1778, 'image': 'https://6.vikiplatform.com/image/1ec1678f08e748d0be80f0eea377a910.jpeg?x=b&s=380x214&q=h&e=t&f=t&cb=1', 'on_air': 'Finished'}, {'_id': ObjectId('607b287cd26dcee95d5687ad'), 'Type': 'Film', 'Nom': 'Life~Love on the Line (La vie et...', 'Pays': 'Japon ', 'Note': 9.6, 'Nb_votes': 2260, 'image': 'https://6.vikiplatform.com/image/e390998aa4d34b1abddcceffe84bab0f.jpg?x=b&a=0x0&s=380x214&q=h&e=t&f=t&cb=1', 'on_air': 'Finished'}, {'_id': ObjectId('607b287cd26dcee95d5687a0'), 'Type': 'Film', 'Nom': 'To My Star (À mon étoile)', 'Pays': 'Corée ', 'Note': 9.5, 'Nb_votes': 3673, 'image': 'https://6.vikiplatform.com/image/dd182e65e33b4d7e808729d5dfa6e7ed.jpg?x=b&a=0x0&s=380x214&q=h&e=t&f=t&cb=1', 'on_air': 'Finished'}, {'_id': ObjectId('607b287cd26dcee95d56878d'), 'Type': 'Film', 'Nom': 'Oh Hae Young Again', 'Pays': 'Corée ', 'Note': 9.5, 'Nb_votes': 16832, 'image': 'https://6.vikiplatform.com/image/67372ac061784d55853573d2fb40231d.jpeg?x=b&s=380x214&q=h&e=t&f=t&cb=1', 'on_air': 'Finished'}]\n"
     ]
    }
   ],
   "source": [
    "cur = collection_viki.find({'Type':'Film'}).sort('Note',-1).limit(5)\n",
    "#list(cur)"
   ]
  },
  {
   "cell_type": "code",
   "execution_count": null,
   "metadata": {},
   "outputs": [],
   "source": []
  }
 ],
 "metadata": {
  "kernelspec": {
   "display_name": "Python 3",
   "language": "python",
   "name": "python3"
  },
  "language_info": {
   "codemirror_mode": {
    "name": "ipython",
    "version": 3
   },
   "file_extension": ".py",
   "mimetype": "text/x-python",
   "name": "python",
   "nbconvert_exporter": "python",
   "pygments_lexer": "ipython3",
   "version": "3.8.9"
  }
 },
 "nbformat": 4,
 "nbformat_minor": 4
}
