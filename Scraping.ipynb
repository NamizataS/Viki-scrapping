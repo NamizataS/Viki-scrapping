{
 "cells": [
  {
   "cell_type": "markdown",
   "metadata": {},
   "source": [
    "## Viki scraping"
   ]
  },
  {
   "cell_type": "markdown",
   "metadata": {},
   "source": [
    "#### Ce projet a pour but de scrapper le site web \"www.viki.com\", d'envoyer les informations obtenues lors du scrapping dans une base MongoDB et de récupérer des informations afin de réaliser de la data visualization"
   ]
  },
  {
   "cell_type": "code",
   "execution_count": 1,
   "metadata": {
    "scrolled": true
   },
   "outputs": [
    {
     "name": "stdout",
     "output_type": "stream",
     "text": [
      "Collecting seaborn\n",
      "  Downloading seaborn-0.11.1-py3-none-any.whl (285 kB)\n",
      "\u001b[K     |████████████████████████████████| 285 kB 313 kB/s eta 0:00:01\n",
      "\u001b[?25hRequirement already satisfied: matplotlib>=2.2 in /root/.local/share/virtualenvs/code-AFz48Hjb/lib/python3.8/site-packages (from seaborn) (3.3.2)\n",
      "Requirement already satisfied: numpy>=1.15 in /root/.local/share/virtualenvs/code-AFz48Hjb/lib/python3.8/site-packages (from seaborn) (1.19.4)\n",
      "Requirement already satisfied: pandas>=0.23 in /root/.local/share/virtualenvs/code-AFz48Hjb/lib/python3.8/site-packages (from seaborn) (1.1.4)\n",
      "Collecting scipy>=1.0\n",
      "  Downloading scipy-1.6.3-cp38-cp38-manylinux1_x86_64.whl (27.2 MB)\n",
      "\u001b[K     |████████████████████████████████| 27.2 MB 24 kB/s eta 0:00:01     |████████████████████▌           | 17.4 MB 45 kB/s eta 0:03:38     |██████████████████████████▍     | 22.5 MB 28 kB/s eta 0:02:48\n",
      "\u001b[?25hRequirement already satisfied: pyparsing!=2.0.4,!=2.1.2,!=2.1.6,>=2.0.3 in /root/.local/share/virtualenvs/code-AFz48Hjb/lib/python3.8/site-packages (from matplotlib>=2.2->seaborn) (2.4.7)\n",
      "Requirement already satisfied: cycler>=0.10 in /root/.local/share/virtualenvs/code-AFz48Hjb/lib/python3.8/site-packages (from matplotlib>=2.2->seaborn) (0.10.0)\n",
      "Requirement already satisfied: python-dateutil>=2.1 in /root/.local/share/virtualenvs/code-AFz48Hjb/lib/python3.8/site-packages (from matplotlib>=2.2->seaborn) (2.8.1)\n",
      "Requirement already satisfied: kiwisolver>=1.0.1 in /root/.local/share/virtualenvs/code-AFz48Hjb/lib/python3.8/site-packages (from matplotlib>=2.2->seaborn) (1.3.1)\n",
      "Requirement already satisfied: pillow>=6.2.0 in /root/.local/share/virtualenvs/code-AFz48Hjb/lib/python3.8/site-packages (from matplotlib>=2.2->seaborn) (8.0.1)\n",
      "Requirement already satisfied: certifi>=2020.06.20 in /root/.local/share/virtualenvs/code-AFz48Hjb/lib/python3.8/site-packages (from matplotlib>=2.2->seaborn) (2020.6.20)\n",
      "Requirement already satisfied: six in /root/.local/share/virtualenvs/code-AFz48Hjb/lib/python3.8/site-packages (from cycler>=0.10->matplotlib>=2.2->seaborn) (1.15.0)\n",
      "Requirement already satisfied: pytz>=2017.2 in /root/.local/share/virtualenvs/code-AFz48Hjb/lib/python3.8/site-packages (from pandas>=0.23->seaborn) (2020.4)\n",
      "Installing collected packages: scipy, seaborn\n",
      "Successfully installed scipy-1.6.3 seaborn-0.11.1\n"
     ]
    }
   ],
   "source": [
    "!pip install seaborn"
   ]
  },
  {
   "cell_type": "code",
   "execution_count": 2,
   "metadata": {},
   "outputs": [],
   "source": [
    "from selenium import webdriver\n",
    "from selenium.webdriver.common.by import By\n",
    "from selenium.webdriver.support.ui import WebDriverWait\n",
    "from selenium.webdriver.support import expected_conditions as EC"
   ]
  },
  {
   "cell_type": "markdown",
   "metadata": {},
   "source": [
    "## Scraping"
   ]
  },
  {
   "cell_type": "markdown",
   "metadata": {},
   "source": [
    "Nous avons décidé de créer une classe Scraper pour rassembler toutes les fonctions dont nous aurons besoin pour scraper le site web que nous avons choisi."
   ]
  },
  {
   "cell_type": "code",
   "execution_count": 3,
   "metadata": {},
   "outputs": [],
   "source": [
    "class Scraper:\n",
    "    def __init__(self, url):\n",
    "        self.chrome_options = webdriver.ChromeOptions()\n",
    "        self.chrome_options.add_argument('--no-sandbox')\n",
    "        self.chrome_options.add_argument('--window-size=1420,1080')\n",
    "        self.chrome_options.add_argument('--headless')\n",
    "        self.chrome_options.add_argument('--disable-gpu')\n",
    "        self.chrome_options.add_argument('--disable-dev-shm-usage')  \n",
    "        self.driver = webdriver.Chrome(options=self.chrome_options)\n",
    "        self.url = url\n",
    "    \n",
    "    def access_website(self):\n",
    "        self.driver.get(self.url)\n",
    "        \n",
    "    def click_on_by_text(self,text):\n",
    "        self.driver.find_element_by_link_text(text).click()\n",
    "   \n",
    "    def click_on_by_xpath(self,xpath):\n",
    "        self.driver.find_element_by_xpath(xpath).click()\n",
    "        \n",
    "    def click_on_by_id(self, id_name):\n",
    "        self.driver.find_element_by_id(id_name).click()\n",
    "    \n",
    "    def accept_cookies(self):\n",
    "        self.driver.find_element_by_xpath(\"//button[text()='Accept All']\").click()\n",
    "    \n",
    "    def get_show(self, results, category):\n",
    "        all_widgets = self.driver.find_elements_by_class_name(\"explore-results\")\n",
    "        first_line = all_widgets[0]\n",
    "        all_first_line_elements = first_line.find_elements_by_class_name('col-inline')\n",
    "        all_first_line_images = first_line.find_elements_by_css_selector('img.responsive-img')\n",
    "        for i in range(len(all_first_line_elements)):\n",
    "            try:\n",
    "                show = all_first_line_elements[i].text.split('\\n')\n",
    "                details = show[1].split('•')\n",
    "                votes_details = details[1].split('(')\n",
    "                image = all_first_line_images[i].get_attribute('src')\n",
    "                results.append({'Type': category, 'Nom': show[0], 'Pays': details[0], 'Note': votes_details[0],\n",
    "                                'Nb_votes': votes_details[1].split(' ')[0], 'image': image})\n",
    "            except:\n",
    "                continue\n",
    "        return results\n",
    "    \n",
    "    def get_all_shows(self, pages, category):\n",
    "        results = []\n",
    "        for i in range(pages):\n",
    "            try:\n",
    "                self.get_show(results, category)\n",
    "                WebDriverWait(self.driver, 30).until(\n",
    "                    EC.element_to_be_clickable((By.XPATH, \"//a[text()='Suivant →']\"))).click()\n",
    "            except:\n",
    "                continue\n",
    "        return results\n",
    "    \n",
    "    def quitDriver(self):\n",
    "        self.driver.quit()"
   ]
  },
  {
   "cell_type": "markdown",
   "metadata": {},
   "source": [
    "La classe Scraper, lorsqu'on l'instancie, commence par initialiser les variables nécessaires au bout fonctionnement de la classe. L'option disable-dev-shm-usage était notamment nécessaire pour éviter que notre programme crash à chaque clic."
   ]
  },
  {
   "cell_type": "code",
   "execution_count": 4,
   "metadata": {},
   "outputs": [],
   "source": [
    "chrome = Scraper('https://www.viki.com/?locale=fr')"
   ]
  },
  {
   "cell_type": "markdown",
   "metadata": {},
   "source": [
    "La fonction `access_website()` permet d'accèder au site web demandé dans l'instanciantion de la classe Scrapper juste au dessus"
   ]
  },
  {
   "cell_type": "code",
   "execution_count": 5,
   "metadata": {},
   "outputs": [],
   "source": [
    "chrome.access_website()"
   ]
  },
  {
   "cell_type": "code",
   "execution_count": 6,
   "metadata": {},
   "outputs": [],
   "source": [
    "chrome.accept_cookies()"
   ]
  },
  {
   "cell_type": "markdown",
   "metadata": {},
   "source": [
    "Les fonctions que nous avons créer et qui permettent de cliquer sur les éléments permettant d'atteindre les pages où sont les informations des programmes Viki utilisent soit le texte sur lequel on clique, soit l'id donnez à l'élément dans le fichier HTML ou le XPath.\n",
    "XPath est langage de requêtage permettant de localiser une portion d'un document XML. "
   ]
  },
  {
   "cell_type": "code",
   "execution_count": 7,
   "metadata": {},
   "outputs": [],
   "source": [
    "chrome.click_on_by_text('Explorer')"
   ]
  },
  {
   "cell_type": "code",
   "execution_count": 8,
   "metadata": {},
   "outputs": [],
   "source": [
    "chrome.click_on_by_text('Tous les spectacles')"
   ]
  },
  {
   "cell_type": "code",
   "execution_count": 9,
   "metadata": {},
   "outputs": [],
   "source": [
    "chrome.click_on_by_id(\"select2-chosen-2\")"
   ]
  },
  {
   "cell_type": "code",
   "execution_count": 10,
   "metadata": {},
   "outputs": [],
   "source": [
    "chrome.click_on_by_xpath(\"//div[text()='Télévision']\")"
   ]
  },
  {
   "cell_type": "markdown",
   "metadata": {},
   "source": [
    "La fonction `get_all_shows`permet d récupérer les séries ou films sur un nombre de page spécifié en argument. On spécifie aussi le type du programme que l'on récupére. Les différentes informations du programme sont stockés dans un dictionnaire. Les dictionnaires sont eux stockés dans une liste afin que cette liste soit transformé en un fichier csv à la fin du scraping. "
   ]
  },
  {
   "cell_type": "code",
   "execution_count": 11,
   "metadata": {},
   "outputs": [],
   "source": [
    "series = chrome.get_all_shows(5,'Série')"
   ]
  },
  {
   "cell_type": "code",
   "execution_count": 12,
   "metadata": {},
   "outputs": [
    {
     "data": {
      "text/plain": [
       "62"
      ]
     },
     "execution_count": 12,
     "metadata": {},
     "output_type": "execute_result"
    }
   ],
   "source": [
    "len(series)"
   ]
  },
  {
   "cell_type": "code",
   "execution_count": 13,
   "metadata": {},
   "outputs": [],
   "source": [
    "chrome.click_on_by_xpath(\"//span[text()='Télévision']\")"
   ]
  },
  {
   "cell_type": "code",
   "execution_count": 14,
   "metadata": {},
   "outputs": [],
   "source": [
    "chrome.click_on_by_xpath(\"//div[text()='Films']\")"
   ]
  },
  {
   "cell_type": "code",
   "execution_count": 15,
   "metadata": {},
   "outputs": [],
   "source": [
    "movies = chrome.get_all_shows(3,'Film')"
   ]
  },
  {
   "cell_type": "code",
   "execution_count": 16,
   "metadata": {},
   "outputs": [],
   "source": [
    "chrome.quitDriver()"
   ]
  },
  {
   "cell_type": "code",
   "execution_count": 17,
   "metadata": {},
   "outputs": [],
   "source": [
    "shows = series + movies"
   ]
  },
  {
   "cell_type": "code",
   "execution_count": 18,
   "metadata": {},
   "outputs": [
    {
     "data": {
      "text/plain": [
       "104"
      ]
     },
     "execution_count": 18,
     "metadata": {},
     "output_type": "execute_result"
    }
   ],
   "source": [
    "len(shows)"
   ]
  },
  {
   "cell_type": "code",
   "execution_count": 34,
   "metadata": {},
   "outputs": [],
   "source": [
    "import pandas as pd\n",
    "import numpy as np\n",
    "import matplotlib.pyplot as plt\n",
    "import seaborn as sns"
   ]
  },
  {
   "cell_type": "markdown",
   "metadata": {},
   "source": [
    "## MongoDB"
   ]
  },
  {
   "cell_type": "code",
   "execution_count": 21,
   "metadata": {},
   "outputs": [],
   "source": [
    "df_shows = pd.read_csv('viki_shows.csv')"
   ]
  },
  {
   "cell_type": "code",
   "execution_count": 22,
   "metadata": {},
   "outputs": [
    {
     "data": {
      "text/html": [
       "<div>\n",
       "<style scoped>\n",
       "    .dataframe tbody tr th:only-of-type {\n",
       "        vertical-align: middle;\n",
       "    }\n",
       "\n",
       "    .dataframe tbody tr th {\n",
       "        vertical-align: top;\n",
       "    }\n",
       "\n",
       "    .dataframe thead th {\n",
       "        text-align: right;\n",
       "    }\n",
       "</style>\n",
       "<table border=\"1\" class=\"dataframe\">\n",
       "  <thead>\n",
       "    <tr style=\"text-align: right;\">\n",
       "      <th></th>\n",
       "      <th>Type</th>\n",
       "      <th>Nom</th>\n",
       "      <th>Pays</th>\n",
       "      <th>Note</th>\n",
       "      <th>Nb_votes</th>\n",
       "      <th>image</th>\n",
       "    </tr>\n",
       "  </thead>\n",
       "  <tbody>\n",
       "    <tr>\n",
       "      <th>0</th>\n",
       "      <td>Série</td>\n",
       "      <td>The Penthouse</td>\n",
       "      <td>Corée</td>\n",
       "      <td>9.2</td>\n",
       "      <td>27531</td>\n",
       "      <td>https://6.vikiplatform.com/image/220415a8e07d4...</td>\n",
       "    </tr>\n",
       "    <tr>\n",
       "      <th>1</th>\n",
       "      <td>Série</td>\n",
       "      <td>Tu es mon héros</td>\n",
       "      <td>Chine Continentale</td>\n",
       "      <td>9.5</td>\n",
       "      <td>12389</td>\n",
       "      <td>https://6.vikiplatform.com/image/2fb5571e0da94...</td>\n",
       "    </tr>\n",
       "    <tr>\n",
       "      <th>2</th>\n",
       "      <td>Série</td>\n",
       "      <td>À L'ANTENNE The Sweet Blood</td>\n",
       "      <td>Corée</td>\n",
       "      <td>8.9</td>\n",
       "      <td>2616</td>\n",
       "      <td>https://6.vikiplatform.com/image/4974bb047c974...</td>\n",
       "    </tr>\n",
       "    <tr>\n",
       "      <th>3</th>\n",
       "      <td>Série</td>\n",
       "      <td>True Beauty</td>\n",
       "      <td>Corée</td>\n",
       "      <td>9.6</td>\n",
       "      <td>149389</td>\n",
       "      <td>https://6.vikiplatform.com/image/8533baa0008c4...</td>\n",
       "    </tr>\n",
       "    <tr>\n",
       "      <th>4</th>\n",
       "      <td>Série</td>\n",
       "      <td>The Penthouse 2 (Le Penthouse 2)</td>\n",
       "      <td>Corée</td>\n",
       "      <td>9.5</td>\n",
       "      <td>18658</td>\n",
       "      <td>https://6.vikiplatform.com/image/164f623344524...</td>\n",
       "    </tr>\n",
       "  </tbody>\n",
       "</table>\n",
       "</div>"
      ],
      "text/plain": [
       "    Type                               Nom                 Pays  Note  \\\n",
       "0  Série                     The Penthouse               Corée    9.2   \n",
       "1  Série                   Tu es mon héros  Chine Continentale    9.5   \n",
       "2  Série       À L'ANTENNE The Sweet Blood               Corée    8.9   \n",
       "3  Série                       True Beauty               Corée    9.6   \n",
       "4  Série  The Penthouse 2 (Le Penthouse 2)               Corée    9.5   \n",
       "\n",
       "   Nb_votes                                              image  \n",
       "0     27531  https://6.vikiplatform.com/image/220415a8e07d4...  \n",
       "1     12389  https://6.vikiplatform.com/image/2fb5571e0da94...  \n",
       "2      2616  https://6.vikiplatform.com/image/4974bb047c974...  \n",
       "3    149389  https://6.vikiplatform.com/image/8533baa0008c4...  \n",
       "4     18658  https://6.vikiplatform.com/image/164f623344524...  "
      ]
     },
     "execution_count": 22,
     "metadata": {},
     "output_type": "execute_result"
    }
   ],
   "source": [
    "df_shows.head()"
   ]
  },
  {
   "cell_type": "markdown",
   "metadata": {},
   "source": [
    "### Cleaning"
   ]
  },
  {
   "cell_type": "markdown",
   "metadata": {},
   "source": [
    "On peut remarquer que les séries en cours comporte la mention \"À L'ANTENNE\" dans leur titres. Dans le cleaning, nous allons enlever cette mention du titre et créer une colonne \"on_air\" dans notre Dataframe afin de préciser si la série est en cours ou finie."
   ]
  },
  {
   "cell_type": "code",
   "execution_count": 23,
   "metadata": {},
   "outputs": [],
   "source": [
    "df_shows['on_air'] = df_shows['Nom'].str.contains(\"À L'ANTENNE\")\n",
    "dictionary = {True: \"On air\", False: \"Finished\"}\n",
    "df_shows['on_air'] = df_shows['on_air'].map(dictionary)\n",
    "df_shows['Nom'] = df_shows['Nom'].str.replace(\"À L'ANTENNE\", '')"
   ]
  },
  {
   "cell_type": "markdown",
   "metadata": {},
   "source": [
    "Des programmes peuvent être scraper en double. Nous les trions donc par ordre alphabétique et supprimons uns instance des doublons."
   ]
  },
  {
   "cell_type": "code",
   "execution_count": 24,
   "metadata": {},
   "outputs": [],
   "source": [
    "df_shows.sort_values('Nom',inplace=True)"
   ]
  },
  {
   "cell_type": "code",
   "execution_count": 25,
   "metadata": {},
   "outputs": [],
   "source": [
    "df_shows.drop_duplicates(subset =\"Nom\",keep = False, inplace = True)"
   ]
  },
  {
   "cell_type": "code",
   "execution_count": 26,
   "metadata": {},
   "outputs": [],
   "source": [
    "from pymongo import MongoClient"
   ]
  },
  {
   "cell_type": "markdown",
   "metadata": {},
   "source": [
    "### Envoi vers la base de données"
   ]
  },
  {
   "cell_type": "markdown",
   "metadata": {},
   "source": [
    "Afin que notre application reste le plus à jour possible, à chaque fois que l'application est mise en marche nous scrapons les informations du site Viki. Nous allons ensuite faire un envoi vers la base de données. \n",
    "Deux cas de figure: \n",
    "* Si la database viki n'existe pas on fait un insert \n",
    "* Si la database existe, on fait un update mais si la série n'existe pas alors un insert sera fait. Cela est possible grâce à l'option `upsert=True`"
   ]
  },
  {
   "cell_type": "code",
   "execution_count": 27,
   "metadata": {},
   "outputs": [],
   "source": [
    "viki_shows = df_shows.fillna(\"\").to_dict(orient='records')"
   ]
  },
  {
   "cell_type": "code",
   "execution_count": 28,
   "metadata": {},
   "outputs": [],
   "source": [
    "client = MongoClient(\"mongo\")"
   ]
  },
  {
   "cell_type": "code",
   "execution_count": 29,
   "metadata": {},
   "outputs": [],
   "source": [
    "db_viki = client.viki"
   ]
  },
  {
   "cell_type": "code",
   "execution_count": 30,
   "metadata": {},
   "outputs": [],
   "source": [
    "collection_viki = db_viki['shows']"
   ]
  },
  {
   "cell_type": "code",
   "execution_count": 13,
   "metadata": {},
   "outputs": [
    {
     "data": {
      "text/plain": [
       "<pymongo.results.InsertManyResult at 0x7fe41f75f880>"
      ]
     },
     "execution_count": 13,
     "metadata": {},
     "output_type": "execute_result"
    }
   ],
   "source": [
    "collection_viki.insert_many(viki_shows)"
   ]
  },
  {
   "cell_type": "code",
   "execution_count": 31,
   "metadata": {},
   "outputs": [],
   "source": [
    "for document in viki_shows:\n",
    "    collection_viki.update_one({'Nom': document['Nom']}, {'$set': document}, upsert=True)"
   ]
  },
  {
   "cell_type": "markdown",
   "metadata": {},
   "source": [
    "## Data visualisation "
   ]
  },
  {
   "cell_type": "markdown",
   "metadata": {},
   "source": [
    "##### Nous avons décider de réaliser 3 graphes "
   ]
  },
  {
   "cell_type": "markdown",
   "metadata": {},
   "source": [
    "Le premier permet de déterminer le pourcentage de films et de séries disponibles"
   ]
  },
  {
   "cell_type": "code",
   "execution_count": 32,
   "metadata": {},
   "outputs": [
    {
     "data": {
      "image/png": "[encoded data removed]",
      "text/plain": [
       "<Figure size 432x288 with 1 Axes>"
      ]
     },
     "metadata": {},
     "output_type": "display_data"
    }
   ],
   "source": [
    "cur = collection_viki.aggregate([{\"$group\" : {\"_id\" : \"$Type\", \"TypeShows\" : {\"$sum\" : 1}}}])\n",
    "res = pd.DataFrame(list(cur))\n",
    "explode = (0.05, 0.05)\n",
    "colors = ['#701f57', '#c2c2f0']\n",
    "\n",
    "fig1,ax1 = plt.subplots()\n",
    "type_shows = res['TypeShows']\n",
    "labels = res['_id']\n",
    "ax1.pie(type_shows, explode=explode, labels=labels, pctdistance=0.85, autopct='%1.1f%%', shadow=True, colors=colors,startangle=90)\n",
    "ax1.axis('equal')\n",
    "ax1.set_title('Répartition des différents types de programmes')\n",
    "plt.tight_layout()\n",
    "plt.show()"
   ]
  },
  {
   "cell_type": "markdown",
   "metadata": {},
   "source": [
    "Le deuxième permet de déterminer le nombre de programmes en fonction du pays"
   ]
  },
  {
   "cell_type": "code",
   "execution_count": 35,
   "metadata": {
    "scrolled": false
   },
   "outputs": [
    {
     "data": {
      "image/png": "[encoded data removed]",
      "text/plain": [
       "<Figure size 576x576 with 1 Axes>"
      ]
     },
     "metadata": {
      "needs_background": "light"
     },
     "output_type": "display_data"
    }
   ],
   "source": [
    "cur = collection_viki.aggregate([{\"$group\" : {\"_id\" : \"$Pays\", \"showsNumber\" : {\"$sum\" : 1}}},{'$sort':{'showsNumber':-1}}])\n",
    "res = pd.DataFrame(list(cur))\n",
    "plt.figure( figsize = (8,8) )\n",
    "plt.title('Le nombre de programme en fonction des pays')\n",
    "sns.barplot(x='_id',y='showsNumber',data=res,palette='rocket')\n",
    "plt.yticks(np.arange(0, 270, 20))\n",
    "plt.show()"
   ]
  },
  {
   "cell_type": "markdown",
   "metadata": {},
   "source": [
    "Le dernier permet de déterminer quels sont les pays d'où les 5 meilleures séries sont originaires"
   ]
  },
  {
   "cell_type": "code",
   "execution_count": 36,
   "metadata": {
    "scrolled": false
   },
   "outputs": [
    {
     "data": {
      "text/plain": [
       "Text(0.5, 1.0, 'Répartition des 5 meilleures séries')"
      ]
     },
     "execution_count": 36,
     "metadata": {},
     "output_type": "execute_result"
    },
    {
     "data": {
      "image/png": "[encoded data removed]",
      "text/plain": [
       "<Figure size 576x576 with 1 Axes>"
      ]
     },
     "metadata": {},
     "output_type": "display_data"
    }
   ],
   "source": [
    "cur = collection_viki.find({'Type':'Série'}).sort('Note',-1).limit(5)\n",
    "df_res = pd.DataFrame(list(cur))\n",
    "explode=[.1,0]\n",
    "colors = ['#f7a889', '#be7c89']\n",
    "df_res.pivot_table('_id',index='Pays',aggfunc='count').plot(kind='pie',subplots=True,colors = colors, explode=explode, autopct='%1.1f%%', shadow=True,figsize=(8,8),startangle=90)\n",
    "plt.legend(loc='upper right')\n",
    "plt.title('Répartition des 5 meilleures séries')"
   ]
  }
 ],
 "metadata": {
  "kernelspec": {
   "display_name": "Python 3",
   "language": "python",
   "name": "python3"
  },
  "language_info": {
   "codemirror_mode": {
    "name": "ipython",
    "version": 3
   },
   "file_extension": ".py",
   "mimetype": "text/x-python",
   "name": "python",
   "nbconvert_exporter": "python",
   "pygments_lexer": "ipython3",
   "version": "3.8.9"
  }
 },
 "nbformat": 4,
 "nbformat_minor": 4
}
